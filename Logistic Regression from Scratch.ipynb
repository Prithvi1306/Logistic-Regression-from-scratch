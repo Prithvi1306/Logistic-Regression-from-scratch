{
 "cells": [
  {
   "cell_type": "code",
   "execution_count": 1,
   "id": "730c8590",
   "metadata": {},
   "outputs": [],
   "source": [
    "import numpy as np\n",
    "import pandas as pd\n",
    "np.random.seed(0)\n",
    "from sklearn import preprocessing\n",
    "import statsmodels.api as sm\n",
    "from sklearn.linear_model import LogisticRegression\n",
    "#!pip install plot_metric\n",
    "from plot_metric.functions import BinaryClassification\n",
    "from sklearn.metrics import confusion_matrix, roc_auc_score, plot_roc_curve\n",
    "import matplotlib.pyplot as plt\n",
    "\n",
    "import warnings\n",
    "warnings.filterwarnings('ignore')"
   ]
  },
  {
   "cell_type": "code",
   "execution_count": 2,
   "id": "d8dbffe5",
   "metadata": {},
   "outputs": [
    {
     "data": {
      "text/html": [
       "<div>\n",
       "<style scoped>\n",
       "    .dataframe tbody tr th:only-of-type {\n",
       "        vertical-align: middle;\n",
       "    }\n",
       "\n",
       "    .dataframe tbody tr th {\n",
       "        vertical-align: top;\n",
       "    }\n",
       "\n",
       "    .dataframe thead th {\n",
       "        text-align: right;\n",
       "    }\n",
       "</style>\n",
       "<table border=\"1\" class=\"dataframe\">\n",
       "  <thead>\n",
       "    <tr style=\"text-align: right;\">\n",
       "      <th></th>\n",
       "      <th>Age</th>\n",
       "      <th>Status</th>\n",
       "    </tr>\n",
       "  </thead>\n",
       "  <tbody>\n",
       "    <tr>\n",
       "      <th>0</th>\n",
       "      <td>18</td>\n",
       "      <td>0</td>\n",
       "    </tr>\n",
       "    <tr>\n",
       "      <th>1</th>\n",
       "      <td>29</td>\n",
       "      <td>0</td>\n",
       "    </tr>\n",
       "    <tr>\n",
       "      <th>2</th>\n",
       "      <td>47</td>\n",
       "      <td>1</td>\n",
       "    </tr>\n",
       "    <tr>\n",
       "      <th>3</th>\n",
       "      <td>45</td>\n",
       "      <td>1</td>\n",
       "    </tr>\n",
       "    <tr>\n",
       "      <th>4</th>\n",
       "      <td>46</td>\n",
       "      <td>1</td>\n",
       "    </tr>\n",
       "  </tbody>\n",
       "</table>\n",
       "</div>"
      ],
      "text/plain": [
       "   Age  Status\n",
       "0   18       0\n",
       "1   29       0\n",
       "2   47       1\n",
       "3   45       1\n",
       "4   46       1"
      ]
     },
     "execution_count": 2,
     "metadata": {},
     "output_type": "execute_result"
    }
   ],
   "source": [
    "# read the data data\n",
    "df = pd.read_csv('insurance_claim.csv', index_col=None)\n",
    "\n",
    "# chech top 5 rows\n",
    "df.head()"
   ]
  },
  {
   "cell_type": "code",
   "execution_count": 3,
   "id": "447797fd",
   "metadata": {},
   "outputs": [],
   "source": [
    "# Take X as dataframe and y as numpy array\n",
    "X = df[[\"Age\"]]\n",
    "\n",
    "# add column constant = 1 before the age column\n",
    "X = sm.add_constant(X)\n",
    "y = df.Status"
   ]
  },
  {
   "cell_type": "code",
   "execution_count": 4,
   "id": "b4ff6464",
   "metadata": {},
   "outputs": [
    {
     "data": {
      "text/html": [
       "<div>\n",
       "<style scoped>\n",
       "    .dataframe tbody tr th:only-of-type {\n",
       "        vertical-align: middle;\n",
       "    }\n",
       "\n",
       "    .dataframe tbody tr th {\n",
       "        vertical-align: top;\n",
       "    }\n",
       "\n",
       "    .dataframe thead th {\n",
       "        text-align: right;\n",
       "    }\n",
       "</style>\n",
       "<table border=\"1\" class=\"dataframe\">\n",
       "  <thead>\n",
       "    <tr style=\"text-align: right;\">\n",
       "      <th></th>\n",
       "      <th>const</th>\n",
       "      <th>Age</th>\n",
       "    </tr>\n",
       "  </thead>\n",
       "  <tbody>\n",
       "    <tr>\n",
       "      <th>0</th>\n",
       "      <td>1.0</td>\n",
       "      <td>18</td>\n",
       "    </tr>\n",
       "    <tr>\n",
       "      <th>1</th>\n",
       "      <td>1.0</td>\n",
       "      <td>29</td>\n",
       "    </tr>\n",
       "    <tr>\n",
       "      <th>2</th>\n",
       "      <td>1.0</td>\n",
       "      <td>47</td>\n",
       "    </tr>\n",
       "    <tr>\n",
       "      <th>3</th>\n",
       "      <td>1.0</td>\n",
       "      <td>45</td>\n",
       "    </tr>\n",
       "    <tr>\n",
       "      <th>4</th>\n",
       "      <td>1.0</td>\n",
       "      <td>46</td>\n",
       "    </tr>\n",
       "  </tbody>\n",
       "</table>\n",
       "</div>"
      ],
      "text/plain": [
       "   const  Age\n",
       "0    1.0   18\n",
       "1    1.0   29\n",
       "2    1.0   47\n",
       "3    1.0   45\n",
       "4    1.0   46"
      ]
     },
     "execution_count": 4,
     "metadata": {},
     "output_type": "execute_result"
    }
   ],
   "source": [
    "X.head()"
   ]
  },
  {
   "attachments": {
    "image-2.png": {
     "image/png": "[encoded data removed]"
    },
    "image.png": {
     "image/png": "[encoded data removed]"
    }
   },
   "cell_type": "markdown",
   "id": "a7ed51c9",
   "metadata": {},
   "source": [
    "In statistics, the logit function is the quantile function associated with the standard logistic distribution. It has many uses in data analysis and machine learning, especially in data transformations.\n",
    "\n",
    "Mathematically, the logit is the inverse of the standard logistic function \n",
    "![image.png](attachment:image.png)\n",
    "\n",
    "so the logit is defined as\n",
    "![image-2.png](attachment:image-2.png)"
   ]
  },
  {
   "cell_type": "code",
   "execution_count": 5,
   "id": "540c923a",
   "metadata": {},
   "outputs": [
    {
     "name": "stdout",
     "output_type": "stream",
     "text": [
      "Optimization terminated successfully.\n",
      "         Current function value: 0.222163\n",
      "         Iterations 8\n"
     ]
    }
   ],
   "source": [
    "# fittng the data in statatical logistic regression model\n",
    "model = sm.Logit(y,X).fit()"
   ]
  },
  {
   "cell_type": "code",
   "execution_count": 6,
   "id": "58de6150",
   "metadata": {},
   "outputs": [
    {
     "data": {
      "text/html": [
       "<table class=\"simpletable\">\n",
       "<caption>Logit Regression Results</caption>\n",
       "<tr>\n",
       "  <th>Dep. Variable:</th>        <td>Status</td>      <th>  No. Observations:  </th>  <td>    39</td>  \n",
       "</tr>\n",
       "<tr>\n",
       "  <th>Model:</th>                 <td>Logit</td>      <th>  Df Residuals:      </th>  <td>    37</td>  \n",
       "</tr>\n",
       "<tr>\n",
       "  <th>Method:</th>                 <td>MLE</td>       <th>  Df Model:          </th>  <td>     1</td>  \n",
       "</tr>\n",
       "<tr>\n",
       "  <th>Date:</th>            <td>Tue, 27 Jun 2023</td> <th>  Pseudo R-squ.:     </th>  <td>0.6597</td>  \n",
       "</tr>\n",
       "<tr>\n",
       "  <th>Time:</th>                <td>02:38:14</td>     <th>  Log-Likelihood:    </th> <td> -8.6644</td> \n",
       "</tr>\n",
       "<tr>\n",
       "  <th>converged:</th>             <td>True</td>       <th>  LL-Null:           </th> <td> -25.460</td> \n",
       "</tr>\n",
       "<tr>\n",
       "  <th>Covariance Type:</th>     <td>nonrobust</td>    <th>  LLR p-value:       </th> <td>6.798e-09</td>\n",
       "</tr>\n",
       "</table>\n",
       "<table class=\"simpletable\">\n",
       "<tr>\n",
       "    <td></td>       <th>coef</th>     <th>std err</th>      <th>z</th>      <th>P>|z|</th>  <th>[0.025</th>    <th>0.975]</th>  \n",
       "</tr>\n",
       "<tr>\n",
       "  <th>const</th> <td>  -12.3576</td> <td>    3.537</td> <td>   -3.494</td> <td> 0.000</td> <td>  -19.289</td> <td>   -5.426</td>\n",
       "</tr>\n",
       "<tr>\n",
       "  <th>Age</th>   <td>    0.3371</td> <td>    0.103</td> <td>    3.277</td> <td> 0.001</td> <td>    0.135</td> <td>    0.539</td>\n",
       "</tr>\n",
       "</table>"
      ],
      "text/plain": [
       "<class 'statsmodels.iolib.summary.Summary'>\n",
       "\"\"\"\n",
       "                           Logit Regression Results                           \n",
       "==============================================================================\n",
       "Dep. Variable:                 Status   No. Observations:                   39\n",
       "Model:                          Logit   Df Residuals:                       37\n",
       "Method:                           MLE   Df Model:                            1\n",
       "Date:                Tue, 27 Jun 2023   Pseudo R-squ.:                  0.6597\n",
       "Time:                        02:38:14   Log-Likelihood:                -8.6644\n",
       "converged:                       True   LL-Null:                       -25.460\n",
       "Covariance Type:            nonrobust   LLR p-value:                 6.798e-09\n",
       "==============================================================================\n",
       "                 coef    std err          z      P>|z|      [0.025      0.975]\n",
       "------------------------------------------------------------------------------\n",
       "const        -12.3576      3.537     -3.494      0.000     -19.289      -5.426\n",
       "Age            0.3371      0.103      3.277      0.001       0.135       0.539\n",
       "==============================================================================\n",
       "\"\"\""
      ]
     },
     "execution_count": 6,
     "metadata": {},
     "output_type": "execute_result"
    }
   ],
   "source": [
    "# get the summary o fthe model\n",
    "model.summary()"
   ]
  },
  {
   "cell_type": "code",
   "execution_count": 7,
   "id": "b94b4cb1",
   "metadata": {},
   "outputs": [],
   "source": [
    "# from the results we got the values of the intercept(b0) and the slope(b1)\n",
    "b0= -12.3576\n",
    "b1= 0.3371\n",
    "\n",
    "# usiing the slope and intercept to find the linear combination\n",
    "Z=b0+b1*X.Age\n",
    "\n",
    "# calculate the probabilty using the sigmoid function\n",
    "calc_prob=np.exp(Z)/(1+np.exp(Z))"
   ]
  },
  {
   "cell_type": "code",
   "execution_count": 8,
   "id": "66c0009a",
   "metadata": {},
   "outputs": [
    {
     "data": {
      "text/plain": [
       "0    0.001852\n",
       "1    0.070326\n",
       "2    0.970290\n",
       "3    0.943316\n",
       "4    0.958869\n",
       "Name: Age, dtype: float64"
      ]
     },
     "execution_count": 8,
     "metadata": {},
     "output_type": "execute_result"
    }
   ],
   "source": [
    "calc_prob.head() # calculated probabilty using formula"
   ]
  },
  {
   "cell_type": "code",
   "execution_count": 9,
   "id": "32d14b9a",
   "metadata": {},
   "outputs": [
    {
     "data": {
      "text/plain": [
       "0    0.001851\n",
       "1    0.070273\n",
       "2    0.970251\n",
       "3    0.943248\n",
       "4    0.958818\n",
       "dtype: float64"
      ]
     },
     "execution_count": 9,
     "metadata": {},
     "output_type": "execute_result"
    }
   ],
   "source": [
    "model.predict(X).head() # probability using model"
   ]
  },
  {
   "cell_type": "code",
   "execution_count": 10,
   "id": "7f676f67",
   "metadata": {},
   "outputs": [],
   "source": [
    "# crate a column with the probability oo predicting class 1\n",
    "df[\"prob_1\"]=model.predict(X)\n",
    "\n",
    "# crate a column with the probability oo predicting class 0\n",
    "df[\"prob_0\"]=1-df[\"prob_1\"]"
   ]
  },
  {
   "cell_type": "markdown",
   "id": "e0a09a74",
   "metadata": {},
   "source": [
    "https://www.learndatasci.com/glossary/binary-classification/#:~:text=each%20binary%20classifier-,What%20is%20Binary%20Classification%3F,Application"
   ]
  },
  {
   "cell_type": "markdown",
   "id": "3c41ee02",
   "metadata": {},
   "source": [
    "In machine learning, binary classification is a supervised learning algorithm that categorizes new observations into one of two classes."
   ]
  },
  {
   "cell_type": "code",
   "execution_count": 11,
   "id": "08a4f798",
   "metadata": {},
   "outputs": [],
   "source": [
    "# visulaising the actual value and probabily of prdicting the value\n",
    "bc=BinaryClassification(y,model.predict(X),labels=[\"0\",\"1|\"])"
   ]
  },
  {
   "cell_type": "code",
   "execution_count": 12,
   "id": "42cdd3ed",
   "metadata": {},
   "outputs": [
    {
     "data": {
      "image/png": "[encoded data removed]",
      "text/plain": [
       "<Figure size 360x360 with 1 Axes>"
      ]
     },
     "metadata": {
      "needs_background": "light"
     },
     "output_type": "display_data"
    }
   ],
   "source": [
    "# plotting the figures\n",
    "plt.figure(figsize=(5,5))\n",
    "bc.plot_roc_curve()\n",
    "plt.show()"
   ]
  },
  {
   "cell_type": "markdown",
   "id": "e9522cc8",
   "metadata": {},
   "source": [
    "AUC ROC stands for “Area Under the Curve” of the “Receiver Operating Characteristic” curve. The AUC ROC curve is basically a way of measuring the performance of an ML model. AUC measures the ability of a binary classifier to distinguish between classes and is used as a summary of the ROC curve\n",
    "\n",
    "https://www.analyticsvidhya.com/blog/2020/06/auc-roc-curve-machine-learning/#:~:text=AUC%20ROC%20stands%20for%20%E2%80%9CArea,summary%20of%20the%20ROC%20curve\n",
    "\n",
    "https://developers.google.com/machine-learning/crash-course/classification/roc-and-auc"
   ]
  },
  {
   "cell_type": "markdown",
   "id": "8c3db576",
   "metadata": {},
   "source": [
    "The likelihood function is the probability that the observed values of the dependent variable may be predicted from the observed values of the independent variables. The likelihood varies from 0 to 1. The MLE is the value that maximizes the probability of the observed data.\n",
    "\n",
    "### Likelihood =  P [Y = 1]* Yi + [1 - P [y = 1]] * (1-Yi)"
   ]
  },
  {
   "cell_type": "code",
   "execution_count": 13,
   "id": "7d4af5ad",
   "metadata": {},
   "outputs": [],
   "source": [
    "# adding a column with the likelihood values\n",
    "df[\"likelihood\"]= df.prob_1*y + (1-df.prob_1)*(1-y)"
   ]
  },
  {
   "cell_type": "code",
   "execution_count": 14,
   "id": "ad29617d",
   "metadata": {},
   "outputs": [],
   "source": [
    "# add column with the log og likelihood values\n",
    "df[\"log_likelihood\"]=np.log(df.likelihood)"
   ]
  },
  {
   "cell_type": "code",
   "execution_count": 15,
   "id": "8c0007b2",
   "metadata": {},
   "outputs": [
    {
     "name": "stdout",
     "output_type": "stream",
     "text": [
      "[0, 0, 1, 1, 1, 1, 1, 1, 1, 1, 1, 1, 1, 1, 0, 0, 0, 0, 0, 0, 0, 0, 0, 0, 0, 0, 0, 0, 0, 0, 0, 0, 0, 0, 0, 0, 0, 0, 0]\n"
     ]
    }
   ],
   "source": [
    "# set threshold = 5 and predict the classes \n",
    "th=0.5\n",
    "# Create empty array to get the predicted class as per the threshold\n",
    "classify=[]\n",
    "for i in range(len(y)):\n",
    "    if model.predict(X)[i]>0.5:\n",
    "        x=1\n",
    "        classify.append(x)\n",
    "    else:\n",
    "        x=0\n",
    "        classify.append(x)\n",
    "print(classify)      "
   ]
  },
  {
   "cell_type": "code",
   "execution_count": 16,
   "id": "cf0ccaf9",
   "metadata": {},
   "outputs": [],
   "source": [
    "# add column of ythe predicted class\n",
    "df[\"Pred_Class\"]=np.array(classify)"
   ]
  },
  {
   "cell_type": "code",
   "execution_count": 17,
   "id": "43d1a3dc",
   "metadata": {},
   "outputs": [
    {
     "data": {
      "text/html": [
       "<div>\n",
       "<style scoped>\n",
       "    .dataframe tbody tr th:only-of-type {\n",
       "        vertical-align: middle;\n",
       "    }\n",
       "\n",
       "    .dataframe tbody tr th {\n",
       "        vertical-align: top;\n",
       "    }\n",
       "\n",
       "    .dataframe thead th {\n",
       "        text-align: right;\n",
       "    }\n",
       "</style>\n",
       "<table border=\"1\" class=\"dataframe\">\n",
       "  <thead>\n",
       "    <tr style=\"text-align: right;\">\n",
       "      <th></th>\n",
       "      <th>Age</th>\n",
       "      <th>Status</th>\n",
       "      <th>prob_1</th>\n",
       "      <th>prob_0</th>\n",
       "      <th>likelihood</th>\n",
       "      <th>log_likelihood</th>\n",
       "      <th>Pred_Class</th>\n",
       "    </tr>\n",
       "  </thead>\n",
       "  <tbody>\n",
       "    <tr>\n",
       "      <th>0</th>\n",
       "      <td>18</td>\n",
       "      <td>0</td>\n",
       "      <td>0.001851</td>\n",
       "      <td>0.998149</td>\n",
       "      <td>0.998149</td>\n",
       "      <td>-0.001853</td>\n",
       "      <td>0</td>\n",
       "    </tr>\n",
       "    <tr>\n",
       "      <th>1</th>\n",
       "      <td>29</td>\n",
       "      <td>0</td>\n",
       "      <td>0.070273</td>\n",
       "      <td>0.929727</td>\n",
       "      <td>0.929727</td>\n",
       "      <td>-0.072864</td>\n",
       "      <td>0</td>\n",
       "    </tr>\n",
       "    <tr>\n",
       "      <th>2</th>\n",
       "      <td>47</td>\n",
       "      <td>1</td>\n",
       "      <td>0.970251</td>\n",
       "      <td>0.029749</td>\n",
       "      <td>0.970251</td>\n",
       "      <td>-0.030200</td>\n",
       "      <td>1</td>\n",
       "    </tr>\n",
       "    <tr>\n",
       "      <th>3</th>\n",
       "      <td>45</td>\n",
       "      <td>1</td>\n",
       "      <td>0.943248</td>\n",
       "      <td>0.056752</td>\n",
       "      <td>0.943248</td>\n",
       "      <td>-0.058426</td>\n",
       "      <td>1</td>\n",
       "    </tr>\n",
       "    <tr>\n",
       "      <th>4</th>\n",
       "      <td>46</td>\n",
       "      <td>1</td>\n",
       "      <td>0.958818</td>\n",
       "      <td>0.041182</td>\n",
       "      <td>0.958818</td>\n",
       "      <td>-0.042054</td>\n",
       "      <td>1</td>\n",
       "    </tr>\n",
       "    <tr>\n",
       "      <th>5</th>\n",
       "      <td>48</td>\n",
       "      <td>1</td>\n",
       "      <td>0.978581</td>\n",
       "      <td>0.021419</td>\n",
       "      <td>0.978581</td>\n",
       "      <td>-0.021651</td>\n",
       "      <td>1</td>\n",
       "    </tr>\n",
       "    <tr>\n",
       "      <th>6</th>\n",
       "      <td>45</td>\n",
       "      <td>1</td>\n",
       "      <td>0.943248</td>\n",
       "      <td>0.056752</td>\n",
       "      <td>0.943248</td>\n",
       "      <td>-0.058426</td>\n",
       "      <td>1</td>\n",
       "    </tr>\n",
       "    <tr>\n",
       "      <th>7</th>\n",
       "      <td>47</td>\n",
       "      <td>1</td>\n",
       "      <td>0.970251</td>\n",
       "      <td>0.029749</td>\n",
       "      <td>0.970251</td>\n",
       "      <td>-0.030200</td>\n",
       "      <td>1</td>\n",
       "    </tr>\n",
       "    <tr>\n",
       "      <th>8</th>\n",
       "      <td>48</td>\n",
       "      <td>1</td>\n",
       "      <td>0.978581</td>\n",
       "      <td>0.021419</td>\n",
       "      <td>0.978581</td>\n",
       "      <td>-0.021651</td>\n",
       "      <td>1</td>\n",
       "    </tr>\n",
       "    <tr>\n",
       "      <th>9</th>\n",
       "      <td>45</td>\n",
       "      <td>1</td>\n",
       "      <td>0.943248</td>\n",
       "      <td>0.056752</td>\n",
       "      <td>0.943248</td>\n",
       "      <td>-0.058426</td>\n",
       "      <td>1</td>\n",
       "    </tr>\n",
       "  </tbody>\n",
       "</table>\n",
       "</div>"
      ],
      "text/plain": [
       "   Age  Status    prob_1    prob_0  likelihood  log_likelihood  Pred_Class\n",
       "0   18       0  0.001851  0.998149    0.998149       -0.001853           0\n",
       "1   29       0  0.070273  0.929727    0.929727       -0.072864           0\n",
       "2   47       1  0.970251  0.029749    0.970251       -0.030200           1\n",
       "3   45       1  0.943248  0.056752    0.943248       -0.058426           1\n",
       "4   46       1  0.958818  0.041182    0.958818       -0.042054           1\n",
       "5   48       1  0.978581  0.021419    0.978581       -0.021651           1\n",
       "6   45       1  0.943248  0.056752    0.943248       -0.058426           1\n",
       "7   47       1  0.970251  0.029749    0.970251       -0.030200           1\n",
       "8   48       1  0.978581  0.021419    0.978581       -0.021651           1\n",
       "9   45       1  0.943248  0.056752    0.943248       -0.058426           1"
      ]
     },
     "execution_count": 17,
     "metadata": {},
     "output_type": "execute_result"
    }
   ],
   "source": [
    "# check the data frame with all the added columns\n",
    "df.head(10)"
   ]
  },
  {
   "cell_type": "code",
   "execution_count": 18,
   "id": "a21a93ad",
   "metadata": {},
   "outputs": [],
   "source": [
    "# calculating TP,TN,FP, and FN with refence to the actual values\n",
    "# y actual = 1 and y predicted = 1\n",
    "TP = sum((y==1)&(df[\"Pred_Class\"]==1))\n",
    "\n",
    "# y actual = 0 and y predicted = 0\n",
    "TN = sum((y==0)&(df[\"Pred_Class\"]==0))\n",
    "\n",
    "# y actual = 0 and y predicted = 1\n",
    "FP = sum((y==0)&(df[\"Pred_Class\"]==1))\n",
    "\n",
    "# y actual = 1 and y predicted = 0\n",
    "FN = sum((y==1)&(df[\"Pred_Class\"]==0))"
   ]
  },
  {
   "cell_type": "code",
   "execution_count": 19,
   "id": "2bd70216",
   "metadata": {},
   "outputs": [
    {
     "data": {
      "text/plain": [
       "matrix([[12,  0],\n",
       "        [25,  2]])"
      ]
     },
     "execution_count": 19,
     "metadata": {},
     "output_type": "execute_result"
    }
   ],
   "source": [
    "# confusion matrix\n",
    "cm=np.mat([[TP,FP],[TN,FN]])\n",
    "cm"
   ]
  },
  {
   "cell_type": "code",
   "execution_count": 20,
   "id": "13ec5e1f",
   "metadata": {},
   "outputs": [],
   "source": [
    "# creating an empty data frame \n",
    "roc=pd.DataFrame()\n",
    "\n",
    "# creating an array of threshold to loop ober and find the best threshold\n",
    "\n",
    "threshold=[0,0.1,0.2,0.3,0.4,0.5,0.6,0.7,0.8,0.9,1.0]\n",
    "\n",
    "for th in threshold:\n",
    "    classify_pred=np.zeros(len(y),dtype=int)\n",
    "    for i in range(len(y)):\n",
    "        if (df[\"prob_1\"][i] > th):\n",
    "            classify_pred[i]=1\n",
    "        else:\n",
    "            classify_pred[i]=0    \n",
    "           \n",
    "        # calculating TP,TN,FP, and FN with refence to the actual values\n",
    "\n",
    "        # y actual = 1 and y predicted = 1\n",
    "    TP = sum((y==1)&(classify_pred==1))\n",
    "\n",
    "        # y actual = 0 and y predicted = 0\n",
    "    TN = sum((y==0)&(classify_pred==0))\n",
    "\n",
    "        # y actual = 0 and y predicted = 1\n",
    "    FP = sum((y==0)&(classify_pred==1))\n",
    "\n",
    "    # y actual = 1 and y predicted = 0\n",
    "    FN = sum((y==1)&(classify_pred==0))\n",
    "    \n",
    "    D={\"Threshold\":th,\"TP\":TP,\"TN\":TN,\"FP\":FP,\"FN\":FN}\n",
    "    roc=roc.append(D,ignore_index=True)"
   ]
  },
  {
   "cell_type": "code",
   "execution_count": 21,
   "id": "6134c20d",
   "metadata": {},
   "outputs": [
    {
     "data": {
      "text/html": [
       "<div>\n",
       "<style scoped>\n",
       "    .dataframe tbody tr th:only-of-type {\n",
       "        vertical-align: middle;\n",
       "    }\n",
       "\n",
       "    .dataframe tbody tr th {\n",
       "        vertical-align: top;\n",
       "    }\n",
       "\n",
       "    .dataframe thead th {\n",
       "        text-align: right;\n",
       "    }\n",
       "</style>\n",
       "<table border=\"1\" class=\"dataframe\">\n",
       "  <thead>\n",
       "    <tr style=\"text-align: right;\">\n",
       "      <th></th>\n",
       "      <th>Threshold</th>\n",
       "      <th>TP</th>\n",
       "      <th>TN</th>\n",
       "      <th>FP</th>\n",
       "      <th>FN</th>\n",
       "    </tr>\n",
       "  </thead>\n",
       "  <tbody>\n",
       "    <tr>\n",
       "      <th>0</th>\n",
       "      <td>0.0</td>\n",
       "      <td>14.0</td>\n",
       "      <td>0.0</td>\n",
       "      <td>25.0</td>\n",
       "      <td>0.0</td>\n",
       "    </tr>\n",
       "    <tr>\n",
       "      <th>1</th>\n",
       "      <td>0.1</td>\n",
       "      <td>12.0</td>\n",
       "      <td>18.0</td>\n",
       "      <td>7.0</td>\n",
       "      <td>2.0</td>\n",
       "    </tr>\n",
       "    <tr>\n",
       "      <th>2</th>\n",
       "      <td>0.2</td>\n",
       "      <td>12.0</td>\n",
       "      <td>21.0</td>\n",
       "      <td>4.0</td>\n",
       "      <td>2.0</td>\n",
       "    </tr>\n",
       "    <tr>\n",
       "      <th>3</th>\n",
       "      <td>0.3</td>\n",
       "      <td>12.0</td>\n",
       "      <td>23.0</td>\n",
       "      <td>2.0</td>\n",
       "      <td>2.0</td>\n",
       "    </tr>\n",
       "    <tr>\n",
       "      <th>4</th>\n",
       "      <td>0.4</td>\n",
       "      <td>12.0</td>\n",
       "      <td>25.0</td>\n",
       "      <td>0.0</td>\n",
       "      <td>2.0</td>\n",
       "    </tr>\n",
       "    <tr>\n",
       "      <th>5</th>\n",
       "      <td>0.5</td>\n",
       "      <td>12.0</td>\n",
       "      <td>25.0</td>\n",
       "      <td>0.0</td>\n",
       "      <td>2.0</td>\n",
       "    </tr>\n",
       "    <tr>\n",
       "      <th>6</th>\n",
       "      <td>0.6</td>\n",
       "      <td>12.0</td>\n",
       "      <td>25.0</td>\n",
       "      <td>0.0</td>\n",
       "      <td>2.0</td>\n",
       "    </tr>\n",
       "    <tr>\n",
       "      <th>7</th>\n",
       "      <td>0.7</td>\n",
       "      <td>12.0</td>\n",
       "      <td>25.0</td>\n",
       "      <td>0.0</td>\n",
       "      <td>2.0</td>\n",
       "    </tr>\n",
       "    <tr>\n",
       "      <th>8</th>\n",
       "      <td>0.8</td>\n",
       "      <td>12.0</td>\n",
       "      <td>25.0</td>\n",
       "      <td>0.0</td>\n",
       "      <td>2.0</td>\n",
       "    </tr>\n",
       "    <tr>\n",
       "      <th>9</th>\n",
       "      <td>0.9</td>\n",
       "      <td>12.0</td>\n",
       "      <td>25.0</td>\n",
       "      <td>0.0</td>\n",
       "      <td>2.0</td>\n",
       "    </tr>\n",
       "    <tr>\n",
       "      <th>10</th>\n",
       "      <td>1.0</td>\n",
       "      <td>0.0</td>\n",
       "      <td>25.0</td>\n",
       "      <td>0.0</td>\n",
       "      <td>14.0</td>\n",
       "    </tr>\n",
       "  </tbody>\n",
       "</table>\n",
       "</div>"
      ],
      "text/plain": [
       "    Threshold    TP    TN    FP    FN\n",
       "0         0.0  14.0   0.0  25.0   0.0\n",
       "1         0.1  12.0  18.0   7.0   2.0\n",
       "2         0.2  12.0  21.0   4.0   2.0\n",
       "3         0.3  12.0  23.0   2.0   2.0\n",
       "4         0.4  12.0  25.0   0.0   2.0\n",
       "5         0.5  12.0  25.0   0.0   2.0\n",
       "6         0.6  12.0  25.0   0.0   2.0\n",
       "7         0.7  12.0  25.0   0.0   2.0\n",
       "8         0.8  12.0  25.0   0.0   2.0\n",
       "9         0.9  12.0  25.0   0.0   2.0\n",
       "10        1.0   0.0  25.0   0.0  14.0"
      ]
     },
     "execution_count": 21,
     "metadata": {},
     "output_type": "execute_result"
    }
   ],
   "source": [
    "roc"
   ]
  },
  {
   "cell_type": "code",
   "execution_count": 22,
   "id": "60e94412",
   "metadata": {},
   "outputs": [],
   "source": [
    "# calculating TPR and FPR for each threshold\n",
    "roc[\"TPR\"]=roc.TP/(roc.TP+roc.FN)\n",
    "roc[\"FPR\"]=roc.FP/(roc.TN+roc.FP)"
   ]
  },
  {
   "cell_type": "code",
   "execution_count": 23,
   "id": "a8c6bae1",
   "metadata": {},
   "outputs": [
    {
     "data": {
      "text/html": [
       "<div>\n",
       "<style scoped>\n",
       "    .dataframe tbody tr th:only-of-type {\n",
       "        vertical-align: middle;\n",
       "    }\n",
       "\n",
       "    .dataframe tbody tr th {\n",
       "        vertical-align: top;\n",
       "    }\n",
       "\n",
       "    .dataframe thead th {\n",
       "        text-align: right;\n",
       "    }\n",
       "</style>\n",
       "<table border=\"1\" class=\"dataframe\">\n",
       "  <thead>\n",
       "    <tr style=\"text-align: right;\">\n",
       "      <th></th>\n",
       "      <th>Threshold</th>\n",
       "      <th>TP</th>\n",
       "      <th>TN</th>\n",
       "      <th>FP</th>\n",
       "      <th>FN</th>\n",
       "      <th>TPR</th>\n",
       "      <th>FPR</th>\n",
       "    </tr>\n",
       "  </thead>\n",
       "  <tbody>\n",
       "    <tr>\n",
       "      <th>0</th>\n",
       "      <td>0.0</td>\n",
       "      <td>14.0</td>\n",
       "      <td>0.0</td>\n",
       "      <td>25.0</td>\n",
       "      <td>0.0</td>\n",
       "      <td>1.000000</td>\n",
       "      <td>1.00</td>\n",
       "    </tr>\n",
       "    <tr>\n",
       "      <th>1</th>\n",
       "      <td>0.1</td>\n",
       "      <td>12.0</td>\n",
       "      <td>18.0</td>\n",
       "      <td>7.0</td>\n",
       "      <td>2.0</td>\n",
       "      <td>0.857143</td>\n",
       "      <td>0.28</td>\n",
       "    </tr>\n",
       "    <tr>\n",
       "      <th>2</th>\n",
       "      <td>0.2</td>\n",
       "      <td>12.0</td>\n",
       "      <td>21.0</td>\n",
       "      <td>4.0</td>\n",
       "      <td>2.0</td>\n",
       "      <td>0.857143</td>\n",
       "      <td>0.16</td>\n",
       "    </tr>\n",
       "    <tr>\n",
       "      <th>3</th>\n",
       "      <td>0.3</td>\n",
       "      <td>12.0</td>\n",
       "      <td>23.0</td>\n",
       "      <td>2.0</td>\n",
       "      <td>2.0</td>\n",
       "      <td>0.857143</td>\n",
       "      <td>0.08</td>\n",
       "    </tr>\n",
       "    <tr>\n",
       "      <th>4</th>\n",
       "      <td>0.4</td>\n",
       "      <td>12.0</td>\n",
       "      <td>25.0</td>\n",
       "      <td>0.0</td>\n",
       "      <td>2.0</td>\n",
       "      <td>0.857143</td>\n",
       "      <td>0.00</td>\n",
       "    </tr>\n",
       "    <tr>\n",
       "      <th>5</th>\n",
       "      <td>0.5</td>\n",
       "      <td>12.0</td>\n",
       "      <td>25.0</td>\n",
       "      <td>0.0</td>\n",
       "      <td>2.0</td>\n",
       "      <td>0.857143</td>\n",
       "      <td>0.00</td>\n",
       "    </tr>\n",
       "    <tr>\n",
       "      <th>6</th>\n",
       "      <td>0.6</td>\n",
       "      <td>12.0</td>\n",
       "      <td>25.0</td>\n",
       "      <td>0.0</td>\n",
       "      <td>2.0</td>\n",
       "      <td>0.857143</td>\n",
       "      <td>0.00</td>\n",
       "    </tr>\n",
       "    <tr>\n",
       "      <th>7</th>\n",
       "      <td>0.7</td>\n",
       "      <td>12.0</td>\n",
       "      <td>25.0</td>\n",
       "      <td>0.0</td>\n",
       "      <td>2.0</td>\n",
       "      <td>0.857143</td>\n",
       "      <td>0.00</td>\n",
       "    </tr>\n",
       "    <tr>\n",
       "      <th>8</th>\n",
       "      <td>0.8</td>\n",
       "      <td>12.0</td>\n",
       "      <td>25.0</td>\n",
       "      <td>0.0</td>\n",
       "      <td>2.0</td>\n",
       "      <td>0.857143</td>\n",
       "      <td>0.00</td>\n",
       "    </tr>\n",
       "    <tr>\n",
       "      <th>9</th>\n",
       "      <td>0.9</td>\n",
       "      <td>12.0</td>\n",
       "      <td>25.0</td>\n",
       "      <td>0.0</td>\n",
       "      <td>2.0</td>\n",
       "      <td>0.857143</td>\n",
       "      <td>0.00</td>\n",
       "    </tr>\n",
       "    <tr>\n",
       "      <th>10</th>\n",
       "      <td>1.0</td>\n",
       "      <td>0.0</td>\n",
       "      <td>25.0</td>\n",
       "      <td>0.0</td>\n",
       "      <td>14.0</td>\n",
       "      <td>0.000000</td>\n",
       "      <td>0.00</td>\n",
       "    </tr>\n",
       "  </tbody>\n",
       "</table>\n",
       "</div>"
      ],
      "text/plain": [
       "    Threshold    TP    TN    FP    FN       TPR   FPR\n",
       "0         0.0  14.0   0.0  25.0   0.0  1.000000  1.00\n",
       "1         0.1  12.0  18.0   7.0   2.0  0.857143  0.28\n",
       "2         0.2  12.0  21.0   4.0   2.0  0.857143  0.16\n",
       "3         0.3  12.0  23.0   2.0   2.0  0.857143  0.08\n",
       "4         0.4  12.0  25.0   0.0   2.0  0.857143  0.00\n",
       "5         0.5  12.0  25.0   0.0   2.0  0.857143  0.00\n",
       "6         0.6  12.0  25.0   0.0   2.0  0.857143  0.00\n",
       "7         0.7  12.0  25.0   0.0   2.0  0.857143  0.00\n",
       "8         0.8  12.0  25.0   0.0   2.0  0.857143  0.00\n",
       "9         0.9  12.0  25.0   0.0   2.0  0.857143  0.00\n",
       "10        1.0   0.0  25.0   0.0  14.0  0.000000  0.00"
      ]
     },
     "execution_count": 23,
     "metadata": {},
     "output_type": "execute_result"
    }
   ],
   "source": [
    "roc"
   ]
  },
  {
   "cell_type": "code",
   "execution_count": 24,
   "id": "8ec31175",
   "metadata": {},
   "outputs": [
    {
     "data": {
      "text/plain": [
       "[<matplotlib.lines.Line2D at 0x1edbbc2e5b0>]"
      ]
     },
     "execution_count": 24,
     "metadata": {},
     "output_type": "execute_result"
    },
    {
     "data": {
      "image/png": "[encoded data removed]",
      "text/plain": [
       "<Figure size 432x288 with 1 Axes>"
      ]
     },
     "metadata": {
      "needs_background": "light"
     },
     "output_type": "display_data"
    }
   ],
   "source": [
    "plt.plot(roc.FPR,roc.TPR)"
   ]
  },
  {
   "cell_type": "markdown",
   "id": "7f83fc9a",
   "metadata": {},
   "source": [
    "https://towardsdatascience.com/demystifying-roc-curves-df809474529a#:~:text=The%20TPR%20at%20both%20the,we%20should%20choose%20threshold%20%3D%200.5.&text=In%20an%20ROC%20Curve%2C%20the,the%20baseline%20model%2Frandom%20classifier."
   ]
  },
  {
   "cell_type": "code",
   "execution_count": 25,
   "id": "ddb52cee",
   "metadata": {},
   "outputs": [
    {
     "data": {
      "text/plain": [
       "0     0.000000\n",
       "1     0.577143\n",
       "2     0.697143\n",
       "3     0.777143\n",
       "4     0.857143\n",
       "5     0.857143\n",
       "6     0.857143\n",
       "7     0.857143\n",
       "8     0.857143\n",
       "9     0.857143\n",
       "10    0.000000\n",
       "dtype: float64"
      ]
     },
     "execution_count": 25,
     "metadata": {},
     "output_type": "execute_result"
    }
   ],
   "source": [
    "# as TPR - FPR is more, threshold is better. one method of selecting threshold is this.\n",
    "(roc.TPR - roc.FPR)"
   ]
  },
  {
   "cell_type": "code",
   "execution_count": 26,
   "id": "c9136d48",
   "metadata": {},
   "outputs": [
    {
     "data": {
      "text/html": [
       "<div>\n",
       "<style scoped>\n",
       "    .dataframe tbody tr th:only-of-type {\n",
       "        vertical-align: middle;\n",
       "    }\n",
       "\n",
       "    .dataframe tbody tr th {\n",
       "        vertical-align: top;\n",
       "    }\n",
       "\n",
       "    .dataframe thead th {\n",
       "        text-align: right;\n",
       "    }\n",
       "</style>\n",
       "<table border=\"1\" class=\"dataframe\">\n",
       "  <thead>\n",
       "    <tr style=\"text-align: right;\">\n",
       "      <th></th>\n",
       "      <th>Threshold</th>\n",
       "      <th>TP</th>\n",
       "      <th>TN</th>\n",
       "      <th>FP</th>\n",
       "      <th>FN</th>\n",
       "    </tr>\n",
       "  </thead>\n",
       "  <tbody>\n",
       "    <tr>\n",
       "      <th>6</th>\n",
       "      <td>0.6</td>\n",
       "      <td>12.0</td>\n",
       "      <td>25.0</td>\n",
       "      <td>0.0</td>\n",
       "      <td>2.0</td>\n",
       "    </tr>\n",
       "  </tbody>\n",
       "</table>\n",
       "</div>"
      ],
      "text/plain": [
       "   Threshold    TP    TN   FP   FN\n",
       "6        0.6  12.0  25.0  0.0  2.0"
      ]
     },
     "execution_count": 26,
     "metadata": {},
     "output_type": "execute_result"
    }
   ],
   "source": [
    "# for a given threshold th= 0.6 & 0.7, confusion matrix\n",
    "th= 0.6\n",
    "roc[roc.Threshold==th][['Threshold','TP','TN','FP','FN']]"
   ]
  },
  {
   "cell_type": "code",
   "execution_count": 27,
   "id": "b881c46c",
   "metadata": {},
   "outputs": [
    {
     "data": {
      "text/plain": [
       "-8.664358257675099"
      ]
     },
     "execution_count": 27,
     "metadata": {},
     "output_type": "execute_result"
    }
   ],
   "source": [
    "# calculate the sum of log likelihood\n",
    "Sum_log_lilekihood=np.sum(df.log_likelihood)\n",
    "Sum_log_lilekihood"
   ]
  },
  {
   "cell_type": "code",
   "execution_count": 28,
   "id": "6c6903cf",
   "metadata": {},
   "outputs": [],
   "source": [
    "# Solving using sk.learn Library"
   ]
  },
  {
   "cell_type": "code",
   "execution_count": 29,
   "id": "7afea26b",
   "metadata": {},
   "outputs": [
    {
     "data": {
      "text/html": [
       "<div>\n",
       "<style scoped>\n",
       "    .dataframe tbody tr th:only-of-type {\n",
       "        vertical-align: middle;\n",
       "    }\n",
       "\n",
       "    .dataframe tbody tr th {\n",
       "        vertical-align: top;\n",
       "    }\n",
       "\n",
       "    .dataframe thead th {\n",
       "        text-align: right;\n",
       "    }\n",
       "</style>\n",
       "<table border=\"1\" class=\"dataframe\">\n",
       "  <thead>\n",
       "    <tr style=\"text-align: right;\">\n",
       "      <th></th>\n",
       "      <th>Age</th>\n",
       "      <th>Status</th>\n",
       "    </tr>\n",
       "  </thead>\n",
       "  <tbody>\n",
       "    <tr>\n",
       "      <th>0</th>\n",
       "      <td>18</td>\n",
       "      <td>0</td>\n",
       "    </tr>\n",
       "    <tr>\n",
       "      <th>1</th>\n",
       "      <td>29</td>\n",
       "      <td>0</td>\n",
       "    </tr>\n",
       "    <tr>\n",
       "      <th>2</th>\n",
       "      <td>47</td>\n",
       "      <td>1</td>\n",
       "    </tr>\n",
       "    <tr>\n",
       "      <th>3</th>\n",
       "      <td>45</td>\n",
       "      <td>1</td>\n",
       "    </tr>\n",
       "    <tr>\n",
       "      <th>4</th>\n",
       "      <td>46</td>\n",
       "      <td>1</td>\n",
       "    </tr>\n",
       "  </tbody>\n",
       "</table>\n",
       "</div>"
      ],
      "text/plain": [
       "   Age  Status\n",
       "0   18       0\n",
       "1   29       0\n",
       "2   47       1\n",
       "3   45       1\n",
       "4   46       1"
      ]
     },
     "execution_count": 29,
     "metadata": {},
     "output_type": "execute_result"
    }
   ],
   "source": [
    "df = pd.read_csv('insurance_claim.csv', index_col=None)\n",
    "df.head()"
   ]
  },
  {
   "cell_type": "code",
   "execution_count": 30,
   "id": "05e1e560",
   "metadata": {},
   "outputs": [],
   "source": [
    "X = df[['Age']]\n",
    "y = df.Status"
   ]
  },
  {
   "cell_type": "code",
   "execution_count": 31,
   "id": "3e367181",
   "metadata": {},
   "outputs": [
    {
     "data": {
      "text/plain": [
       "LogisticRegression()"
      ]
     },
     "execution_count": 31,
     "metadata": {},
     "output_type": "execute_result"
    }
   ],
   "source": [
    "log_reg = LogisticRegression()\n",
    "model= log_reg.fit(X,y)\n",
    "model"
   ]
  },
  {
   "cell_type": "code",
   "execution_count": 32,
   "id": "3fbdfec5",
   "metadata": {},
   "outputs": [
    {
     "data": {
      "text/plain": [
       "array([-12.24021818])"
      ]
     },
     "execution_count": 32,
     "metadata": {},
     "output_type": "execute_result"
    }
   ],
   "source": [
    "model.intercept_"
   ]
  },
  {
   "cell_type": "code",
   "execution_count": 33,
   "id": "4c5d0e02",
   "metadata": {},
   "outputs": [
    {
     "data": {
      "text/plain": [
       "array([[0.33360201]])"
      ]
     },
     "execution_count": 33,
     "metadata": {},
     "output_type": "execute_result"
    }
   ],
   "source": [
    "model.coef_"
   ]
  },
  {
   "cell_type": "code",
   "execution_count": 34,
   "id": "a0ae03bc",
   "metadata": {},
   "outputs": [
    {
     "data": {
      "text/plain": [
       "array([[0.99804495, 0.00195505],\n",
       "       [0.92862517, 0.07137483],\n",
       "       [0.03109631, 0.96890369],\n",
       "       [0.05886321, 0.94113679],\n",
       "       [0.04288201, 0.95711799],\n",
       "       [0.02247373, 0.97752627],\n",
       "       [0.05886321, 0.94113679],\n",
       "       [0.03109631, 0.96890369],\n",
       "       [0.02247373, 0.97752627],\n",
       "       [0.05886321, 0.94113679],\n",
       "       [0.04288201, 0.95711799],\n",
       "       [0.03109631, 0.96890369],\n",
       "       [0.01620209, 0.98379791],\n",
       "       [0.03109631, 0.96890369],\n",
       "       [0.92862517, 0.07137483],\n",
       "       [0.869728  , 0.130272  ],\n",
       "       [0.869728  , 0.130272  ],\n",
       "       [0.9620561 , 0.0379439 ],\n",
       "       [0.99469917, 0.00530083],\n",
       "       [0.94781489, 0.05218511],\n",
       "       [0.9620561 , 0.0379439 ],\n",
       "       [0.63741174, 0.36258826],\n",
       "       [0.7740551 , 0.2259449 ],\n",
       "       [0.90310036, 0.09689964],\n",
       "       [0.97252358, 0.02747642],\n",
       "       [0.9620561 , 0.0379439 ],\n",
       "       [0.9620561 , 0.0379439 ],\n",
       "       [0.7740551 , 0.2259449 ],\n",
       "       [0.63741174, 0.36258826],\n",
       "       [0.90310036, 0.09689964],\n",
       "       [0.94781489, 0.05218511],\n",
       "       [0.98972153, 0.01027847],\n",
       "       [0.98016296, 0.01983704],\n",
       "       [0.9620561 , 0.0379439 ],\n",
       "       [0.90310036, 0.09689964],\n",
       "       [0.869728  , 0.130272  ],\n",
       "       [0.98570955, 0.01429045],\n",
       "       [0.99804495, 0.00195505],\n",
       "       [0.92862517, 0.07137483]])"
      ]
     },
     "execution_count": 34,
     "metadata": {},
     "output_type": "execute_result"
    }
   ],
   "source": [
    "model.predict_proba(X)"
   ]
  },
  {
   "cell_type": "code",
   "execution_count": 35,
   "id": "c6e09aa6",
   "metadata": {},
   "outputs": [],
   "source": [
    "df[\"prob_1\"] = model.predict_proba(X)[:,0]\n",
    "df[\"prob_0\"] = model.predict_proba(X)[:,1]\n",
    "df[\"likelihood\"]= df.prob_1*y + (1-df.prob_1)*(1-y)\n",
    "df[\"log_likelihood\"]=np.log(df.likelihood)"
   ]
  },
  {
   "cell_type": "code",
   "execution_count": 36,
   "id": "4451cde7",
   "metadata": {},
   "outputs": [
    {
     "data": {
      "text/html": [
       "<div>\n",
       "<style scoped>\n",
       "    .dataframe tbody tr th:only-of-type {\n",
       "        vertical-align: middle;\n",
       "    }\n",
       "\n",
       "    .dataframe tbody tr th {\n",
       "        vertical-align: top;\n",
       "    }\n",
       "\n",
       "    .dataframe thead th {\n",
       "        text-align: right;\n",
       "    }\n",
       "</style>\n",
       "<table border=\"1\" class=\"dataframe\">\n",
       "  <thead>\n",
       "    <tr style=\"text-align: right;\">\n",
       "      <th></th>\n",
       "      <th>Age</th>\n",
       "      <th>Status</th>\n",
       "      <th>prob_1</th>\n",
       "      <th>prob_0</th>\n",
       "      <th>likelihood</th>\n",
       "      <th>log_likelihood</th>\n",
       "    </tr>\n",
       "  </thead>\n",
       "  <tbody>\n",
       "    <tr>\n",
       "      <th>0</th>\n",
       "      <td>18</td>\n",
       "      <td>0</td>\n",
       "      <td>0.998045</td>\n",
       "      <td>0.001955</td>\n",
       "      <td>0.001955</td>\n",
       "      <td>-6.237339</td>\n",
       "    </tr>\n",
       "    <tr>\n",
       "      <th>1</th>\n",
       "      <td>29</td>\n",
       "      <td>0</td>\n",
       "      <td>0.928625</td>\n",
       "      <td>0.071375</td>\n",
       "      <td>0.071375</td>\n",
       "      <td>-2.639810</td>\n",
       "    </tr>\n",
       "    <tr>\n",
       "      <th>2</th>\n",
       "      <td>47</td>\n",
       "      <td>1</td>\n",
       "      <td>0.031096</td>\n",
       "      <td>0.968904</td>\n",
       "      <td>0.031096</td>\n",
       "      <td>-3.470666</td>\n",
       "    </tr>\n",
       "    <tr>\n",
       "      <th>3</th>\n",
       "      <td>45</td>\n",
       "      <td>1</td>\n",
       "      <td>0.058863</td>\n",
       "      <td>0.941137</td>\n",
       "      <td>0.058863</td>\n",
       "      <td>-2.832539</td>\n",
       "    </tr>\n",
       "    <tr>\n",
       "      <th>4</th>\n",
       "      <td>46</td>\n",
       "      <td>1</td>\n",
       "      <td>0.042882</td>\n",
       "      <td>0.957118</td>\n",
       "      <td>0.042882</td>\n",
       "      <td>-3.149303</td>\n",
       "    </tr>\n",
       "    <tr>\n",
       "      <th>5</th>\n",
       "      <td>48</td>\n",
       "      <td>1</td>\n",
       "      <td>0.022474</td>\n",
       "      <td>0.977526</td>\n",
       "      <td>0.022474</td>\n",
       "      <td>-3.795408</td>\n",
       "    </tr>\n",
       "    <tr>\n",
       "      <th>6</th>\n",
       "      <td>45</td>\n",
       "      <td>1</td>\n",
       "      <td>0.058863</td>\n",
       "      <td>0.941137</td>\n",
       "      <td>0.058863</td>\n",
       "      <td>-2.832539</td>\n",
       "    </tr>\n",
       "    <tr>\n",
       "      <th>7</th>\n",
       "      <td>47</td>\n",
       "      <td>1</td>\n",
       "      <td>0.031096</td>\n",
       "      <td>0.968904</td>\n",
       "      <td>0.031096</td>\n",
       "      <td>-3.470666</td>\n",
       "    </tr>\n",
       "    <tr>\n",
       "      <th>8</th>\n",
       "      <td>48</td>\n",
       "      <td>1</td>\n",
       "      <td>0.022474</td>\n",
       "      <td>0.977526</td>\n",
       "      <td>0.022474</td>\n",
       "      <td>-3.795408</td>\n",
       "    </tr>\n",
       "    <tr>\n",
       "      <th>9</th>\n",
       "      <td>45</td>\n",
       "      <td>1</td>\n",
       "      <td>0.058863</td>\n",
       "      <td>0.941137</td>\n",
       "      <td>0.058863</td>\n",
       "      <td>-2.832539</td>\n",
       "    </tr>\n",
       "  </tbody>\n",
       "</table>\n",
       "</div>"
      ],
      "text/plain": [
       "   Age  Status    prob_1    prob_0  likelihood  log_likelihood\n",
       "0   18       0  0.998045  0.001955    0.001955       -6.237339\n",
       "1   29       0  0.928625  0.071375    0.071375       -2.639810\n",
       "2   47       1  0.031096  0.968904    0.031096       -3.470666\n",
       "3   45       1  0.058863  0.941137    0.058863       -2.832539\n",
       "4   46       1  0.042882  0.957118    0.042882       -3.149303\n",
       "5   48       1  0.022474  0.977526    0.022474       -3.795408\n",
       "6   45       1  0.058863  0.941137    0.058863       -2.832539\n",
       "7   47       1  0.031096  0.968904    0.031096       -3.470666\n",
       "8   48       1  0.022474  0.977526    0.022474       -3.795408\n",
       "9   45       1  0.058863  0.941137    0.058863       -2.832539"
      ]
     },
     "execution_count": 36,
     "metadata": {},
     "output_type": "execute_result"
    }
   ],
   "source": [
    "df.head(10)"
   ]
  },
  {
   "cell_type": "code",
   "execution_count": 37,
   "id": "a0cedf49",
   "metadata": {},
   "outputs": [
    {
     "data": {
      "image/png": "[encoded data removed]",
      "text/plain": [
       "<Figure size 360x360 with 1 Axes>"
      ]
     },
     "metadata": {},
     "output_type": "display_data"
    }
   ],
   "source": [
    "# Visualisation with plot_metric\n",
    "bc = BinaryClassification(y, model.predict(X), labels=[\"0\", \"1\"])\n",
    "\n",
    "# Figures\n",
    "plt.figure(figsize=(5,5))\n",
    "bc.plot_roc_curve()\n",
    "plt.show()"
   ]
  },
  {
   "cell_type": "code",
   "execution_count": 38,
   "id": "37056a96",
   "metadata": {},
   "outputs": [],
   "source": [
    "# Initialize empty dataframe to store metrics\n",
    "df_ROC = pd.DataFrame(columns=['Threshold', 'TP', 'TN', 'FP', 'FN', 'TPR', 'FPR'])"
   ]
  },
  {
   "cell_type": "code",
   "execution_count": 39,
   "id": "4a3d731f",
   "metadata": {},
   "outputs": [],
   "source": [
    "# Loop through different thresholds and calculate metrics\n",
    "for threshold in np.arange(0, 1.1, 0.1):\n",
    "    y_pred = (df['prob_1'] > threshold).astype(int)\n",
    "    cm = confusion_matrix(y, y_pred)\n",
    "    TP = cm[1, 1]\n",
    "    TN = cm[0, 0]\n",
    "    FP = cm[0, 1]\n",
    "    FN = cm[1, 0]\n",
    "    TPR = TP / (TP + FN)\n",
    "    FPR = FP / (FP + TN)\n",
    "    df_ROC = df_ROC.append({'Threshold': threshold, 'TP': TP, 'TN': TN, 'FP': FP, 'FN': FN, 'TPR': TPR, 'FPR': FPR}, ignore_index=True)"
   ]
  },
  {
   "cell_type": "code",
   "execution_count": 40,
   "id": "25d5945c",
   "metadata": {},
   "outputs": [
    {
     "data": {
      "text/html": [
       "<div>\n",
       "<style scoped>\n",
       "    .dataframe tbody tr th:only-of-type {\n",
       "        vertical-align: middle;\n",
       "    }\n",
       "\n",
       "    .dataframe tbody tr th {\n",
       "        vertical-align: top;\n",
       "    }\n",
       "\n",
       "    .dataframe thead th {\n",
       "        text-align: right;\n",
       "    }\n",
       "</style>\n",
       "<table border=\"1\" class=\"dataframe\">\n",
       "  <thead>\n",
       "    <tr style=\"text-align: right;\">\n",
       "      <th></th>\n",
       "      <th>Threshold</th>\n",
       "      <th>TP</th>\n",
       "      <th>TN</th>\n",
       "      <th>FP</th>\n",
       "      <th>FN</th>\n",
       "      <th>TPR</th>\n",
       "      <th>FPR</th>\n",
       "    </tr>\n",
       "  </thead>\n",
       "  <tbody>\n",
       "    <tr>\n",
       "      <th>0</th>\n",
       "      <td>0.0</td>\n",
       "      <td>14.0</td>\n",
       "      <td>0.0</td>\n",
       "      <td>25.0</td>\n",
       "      <td>0.0</td>\n",
       "      <td>1.000000</td>\n",
       "      <td>1.00</td>\n",
       "    </tr>\n",
       "    <tr>\n",
       "      <th>1</th>\n",
       "      <td>0.1</td>\n",
       "      <td>2.0</td>\n",
       "      <td>0.0</td>\n",
       "      <td>25.0</td>\n",
       "      <td>12.0</td>\n",
       "      <td>0.142857</td>\n",
       "      <td>1.00</td>\n",
       "    </tr>\n",
       "    <tr>\n",
       "      <th>2</th>\n",
       "      <td>0.2</td>\n",
       "      <td>2.0</td>\n",
       "      <td>0.0</td>\n",
       "      <td>25.0</td>\n",
       "      <td>12.0</td>\n",
       "      <td>0.142857</td>\n",
       "      <td>1.00</td>\n",
       "    </tr>\n",
       "    <tr>\n",
       "      <th>3</th>\n",
       "      <td>0.3</td>\n",
       "      <td>2.0</td>\n",
       "      <td>0.0</td>\n",
       "      <td>25.0</td>\n",
       "      <td>12.0</td>\n",
       "      <td>0.142857</td>\n",
       "      <td>1.00</td>\n",
       "    </tr>\n",
       "    <tr>\n",
       "      <th>4</th>\n",
       "      <td>0.4</td>\n",
       "      <td>2.0</td>\n",
       "      <td>0.0</td>\n",
       "      <td>25.0</td>\n",
       "      <td>12.0</td>\n",
       "      <td>0.142857</td>\n",
       "      <td>1.00</td>\n",
       "    </tr>\n",
       "    <tr>\n",
       "      <th>5</th>\n",
       "      <td>0.5</td>\n",
       "      <td>2.0</td>\n",
       "      <td>0.0</td>\n",
       "      <td>25.0</td>\n",
       "      <td>12.0</td>\n",
       "      <td>0.142857</td>\n",
       "      <td>1.00</td>\n",
       "    </tr>\n",
       "    <tr>\n",
       "      <th>6</th>\n",
       "      <td>0.6</td>\n",
       "      <td>2.0</td>\n",
       "      <td>0.0</td>\n",
       "      <td>25.0</td>\n",
       "      <td>12.0</td>\n",
       "      <td>0.142857</td>\n",
       "      <td>1.00</td>\n",
       "    </tr>\n",
       "    <tr>\n",
       "      <th>7</th>\n",
       "      <td>0.7</td>\n",
       "      <td>2.0</td>\n",
       "      <td>2.0</td>\n",
       "      <td>23.0</td>\n",
       "      <td>12.0</td>\n",
       "      <td>0.142857</td>\n",
       "      <td>0.92</td>\n",
       "    </tr>\n",
       "    <tr>\n",
       "      <th>8</th>\n",
       "      <td>0.8</td>\n",
       "      <td>2.0</td>\n",
       "      <td>4.0</td>\n",
       "      <td>21.0</td>\n",
       "      <td>12.0</td>\n",
       "      <td>0.142857</td>\n",
       "      <td>0.84</td>\n",
       "    </tr>\n",
       "    <tr>\n",
       "      <th>9</th>\n",
       "      <td>0.9</td>\n",
       "      <td>2.0</td>\n",
       "      <td>7.0</td>\n",
       "      <td>18.0</td>\n",
       "      <td>12.0</td>\n",
       "      <td>0.142857</td>\n",
       "      <td>0.72</td>\n",
       "    </tr>\n",
       "  </tbody>\n",
       "</table>\n",
       "</div>"
      ],
      "text/plain": [
       "   Threshold    TP   TN    FP    FN       TPR   FPR\n",
       "0        0.0  14.0  0.0  25.0   0.0  1.000000  1.00\n",
       "1        0.1   2.0  0.0  25.0  12.0  0.142857  1.00\n",
       "2        0.2   2.0  0.0  25.0  12.0  0.142857  1.00\n",
       "3        0.3   2.0  0.0  25.0  12.0  0.142857  1.00\n",
       "4        0.4   2.0  0.0  25.0  12.0  0.142857  1.00\n",
       "5        0.5   2.0  0.0  25.0  12.0  0.142857  1.00\n",
       "6        0.6   2.0  0.0  25.0  12.0  0.142857  1.00\n",
       "7        0.7   2.0  2.0  23.0  12.0  0.142857  0.92\n",
       "8        0.8   2.0  4.0  21.0  12.0  0.142857  0.84\n",
       "9        0.9   2.0  7.0  18.0  12.0  0.142857  0.72"
      ]
     },
     "execution_count": 40,
     "metadata": {},
     "output_type": "execute_result"
    }
   ],
   "source": [
    "df_ROC.head(10)"
   ]
  },
  {
   "cell_type": "code",
   "execution_count": 41,
   "id": "e792ac89",
   "metadata": {},
   "outputs": [
    {
     "name": "stdout",
     "output_type": "stream",
     "text": [
      "AUC: 0.06857142857142856\n"
     ]
    }
   ],
   "source": [
    "# Compute AUC\n",
    "auc = roc_auc_score(y, df['prob_1'])\n",
    "print('AUC:', auc)"
   ]
  },
  {
   "cell_type": "code",
   "execution_count": 42,
   "id": "dc593af7",
   "metadata": {},
   "outputs": [
    {
     "data": {
      "image/png": "[encoded data removed]",
      "text/plain": [
       "<Figure size 432x288 with 1 Axes>"
      ]
     },
     "metadata": {},
     "output_type": "display_data"
    }
   ],
   "source": [
    "# Plot ROC curve using plot_roc_curve() function\n",
    "plot_roc_curve(model, X, y)\n",
    "plt.plot([0, 1], [0, 1], '--', color='y')\n",
    "plt.title('ROC Curve')\n",
    "plt.show()"
   ]
  },
  {
   "cell_type": "markdown",
   "id": "7a392e50",
   "metadata": {},
   "source": [
    "Area Under the ROC curve\n",
    "The Area Under the ROC curve (AUC) is an aggregated metric that evaluates how well a logistic regression model classifies positive and negative outcomes at all possible cutoffs. It can range from 0.5 to 1, and the larger it is the better. People will sometimes use the AUC as a means for evaluating predictive performance of a model, although because it represents all possible cutoff values, which isn’t feasible in practice, the interpretation is difficult. We recommend interpreting the ROC curve directly as a way to choose a cutoff value.\n",
    "\n"
   ]
  },
  {
   "cell_type": "markdown",
   "id": "c7cdd0fa",
   "metadata": {},
   "source": [
    "## the model built from scratch has given the same AUC for 0.5 threshol as the sklearn library"
   ]
  },
  {
   "cell_type": "code",
   "execution_count": null,
   "id": "4e886a4b",
   "metadata": {},
   "outputs": [],
   "source": []
  },
  {
   "cell_type": "code",
   "execution_count": null,
   "id": "3c585dd1",
   "metadata": {},
   "outputs": [],
   "source": []
  },
  {
   "cell_type": "code",
   "execution_count": null,
   "id": "c70d8a3c",
   "metadata": {},
   "outputs": [],
   "source": []
  },
  {
   "cell_type": "code",
   "execution_count": null,
   "id": "de8c5947",
   "metadata": {},
   "outputs": [],
   "source": []
  },
  {
   "cell_type": "code",
   "execution_count": null,
   "id": "d505417b",
   "metadata": {},
   "outputs": [],
   "source": []
  },
  {
   "cell_type": "code",
   "execution_count": null,
   "id": "30d14493",
   "metadata": {},
   "outputs": [],
   "source": []
  },
  {
   "cell_type": "markdown",
   "id": "8b90f50e",
   "metadata": {},
   "source": [
    "### for future references"
   ]
  },
  {
   "cell_type": "markdown",
   "id": "b8969cc8",
   "metadata": {},
   "source": [
    "https://medium.com/analytics-vidhya/the-math-behind-logistic-regression-c2f04ca27bca\n",
    "\n",
    "https://towardsdatascience.com/logistic-regression-explained-from-scratch-visually-mathematically-and-programmatically-eb83520fdf9a\n",
    "\n",
    "https://www.statisticshowto.com/log-likelihood-function/\n",
    "    \n",
    "https://www.statology.org/interpret-log-likelihood/#:~:text=The%20log%2Dlikelihood%20value%20of,negative%20infinity%20to%20positive%20infinity.\n",
    "    \n",
    "https://medium.com/@analyttica/log-likelihood-analyttica-function-series-cb059e0d379#:~:text=Log%20Likelihood%20value%20is%20a,Likelihood%20values%20between%20multiple%20models.\n",
    "    \n",
    "https://machinelearningmastery.com/logistic-regression-with-maximum-likelihood-estimation/\n",
    "    \n",
    "https://www.graphpad.com/guides/prism/latest/curve-fitting/reg_logistic_roc_curves.htm\n",
    "\n",
    "\n",
    "    "
   ]
  }
 ],
 "metadata": {
  "kernelspec": {
   "display_name": "Python 3",
   "language": "python",
   "name": "python3"
  },
  "language_info": {
   "codemirror_mode": {
    "name": "ipython",
    "version": 3
   },
   "file_extension": ".py",
   "mimetype": "text/x-python",
   "name": "python",
   "nbconvert_exporter": "python",
   "pygments_lexer": "ipython3",
   "version": "3.9.13"
  }
 },
 "nbformat": 4,
 "nbformat_minor": 5
}
